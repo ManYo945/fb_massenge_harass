{
 "cells": [
  {
   "cell_type": "code",
   "execution_count": 10,
   "id": "811b80d7",
   "metadata": {},
   "outputs": [],
   "source": [
    "import tkinter as tk\n",
    "from selenium import webdriver\n",
    "from selenium.webdriver.chrome.options import Options\n",
    "from selenium.webdriver.common.by import By\n",
    "from selenium.webdriver.common.keys import Keys\n",
    "import time\n"
   ]
  },
  {
   "cell_type": "code",
   "execution_count": 2,
   "id": "49f7cb5b",
   "metadata": {},
   "outputs": [],
   "source": [
    "#定義\n",
    "def click_button():\n",
    "    global click, user, password, him_id\n",
    "    click = False\n",
    "    if click == False:\n",
    "        click = True\n",
    "        user = acc_user.get()\n",
    "        password = acc_pass.get()\n",
    "        him_id = tid.get()\n",
    "        # print(user, password, him_id)\n",
    "        button_inp.set('已輸入....')\n",
    "        label_text.set('正在騷擾' + him_id)\n",
    "    else:\n",
    "        click = False\n",
    "        button_inp.set('輸入')\n",
    "        label_text.set('FB-Massenger騷擾器')\n",
    "    win.destroy()  # 終止 mainloop 的執行並關閉視窗"
   ]
  },
  {
   "cell_type": "code",
   "execution_count": 11,
   "id": "3597d2f7",
   "metadata": {
    "scrolled": false
   },
   "outputs": [],
   "source": [
    "#介面設定\n",
    "\n",
    "#視窗\n",
    "win = tk.Tk()\n",
    "win.title('FB-Massenger騷擾器')\n",
    "win.geometry('800x300')\n",
    "win.resizable(False, False) # 如果不想讓使用者能調整視窗大小的話就均設為False\n",
    "\n",
    "#互動標題\n",
    "label_text = tk.StringVar()\n",
    "label_text.set('FB-Massenger騷擾器')\n",
    "top_text = tk.Label(win, textvariable=label_text, fg='black', font=('Arial', 25), width=20, height=1)\n",
    "# 說明： bg為背景，font為字型，width為長，height為高，這裡的長和高是字元的長和高，比如height=2,就是標籤有2個字元這麼高\n",
    "top_text.pack()\n",
    "\n",
    "# 創建一個帳號 Frame\n",
    "acc_frame = tk.LabelFrame(win, text='    帳號        密碼', font=('Arial', 20))\n",
    "#帳號\n",
    "acc_user = tk.Entry(acc_frame,bg='white', font=('Arial', 15), width=10)\n",
    "acc_user.pack(side=tk.LEFT, padx=5, pady=5)\n",
    "#密碼\n",
    "acc_pass = tk.Entry(acc_frame,bg='white', font=('Arial', 15), width=10)\n",
    "acc_pass.pack(side=tk.LEFT, padx=5, pady=5)\n",
    "# 將 LabelFrame 放到你想要的位置\n",
    "acc_frame.pack(padx=10, pady=10)\n",
    "\n",
    "# 創建一個 LabelFrame\n",
    "id_frame = tk.LabelFrame(win, text=\"input your target's id\", font=('Arial', 15))\n",
    "#id輸入欄\n",
    "tid = tk.Entry(id_frame,bg='white', font=('Arial', 15), width=10)\n",
    "tid.pack(side=tk.LEFT, padx=5, pady=5)\n",
    "#id輸入按鈕\n",
    "button_inp = tk.StringVar() # 初始化tk的字串變數\n",
    "button_inp.set('輸入')\n",
    "btn = tk.Button(id_frame, bg='white',\n",
    "                textvariable=button_inp,\n",
    "                font=('Arial', 10),\n",
    "                width=10,\n",
    "                command=click_button)\n",
    "btn.pack(side=tk.LEFT, padx=5, pady=5)\n",
    "# 將 LabelFrame 放到你想要的位置\n",
    "id_frame.pack(padx=10, pady=10)\n",
    "\n",
    "win.mainloop() # 讓window不斷的重新整理，如果沒有mainloop,就是一個靜態的window\n"
   ]
  },
  {
   "cell_type": "code",
   "execution_count": 9,
   "id": "2a3e6d2d",
   "metadata": {
    "scrolled": false
   },
   "outputs": [
    {
     "name": "stderr",
     "output_type": "stream",
     "text": [
      "C:\\Users\\88692\\AppData\\Local\\Temp\\ipykernel_18988\\2918868530.py:11: DeprecationWarning: executable_path has been deprecated, please pass in a Service object\n",
      "  browser = webdriver.Chrome('chromedriver_win32/chromedriver',chrome_options = options)\n",
      "C:\\Users\\88692\\AppData\\Local\\Temp\\ipykernel_18988\\2918868530.py:11: DeprecationWarning: use options instead of chrome_options\n",
      "  browser = webdriver.Chrome('chromedriver_win32/chromedriver',chrome_options = options)\n"
     ]
    }
   ],
   "source": [
    "#登入階段\n",
    "options = webdriver.ChromeOptions()\n",
    "prefs = {\n",
    "    'profile.default_content_setting_values' :\n",
    "        {\n",
    "        'notifications' : 2\n",
    "         }\n",
    "}\n",
    "options.add_experimental_option('prefs',prefs)\n",
    "\n",
    "browser = webdriver.Chrome('chromedriver_win32/chromedriver',chrome_options = options)\n",
    "browser.get('https://zh-tw.facebook.com/')\n",
    "\n",
    "time.sleep(2)\n",
    "user_name = browser.find_element(by='name', value='email')\n",
    "user_password = browser.find_element(by='name', value='pass')\n",
    "user_name.send_keys(user)\n",
    "user_password.send_keys(password)\n",
    "user_password.send_keys(Keys.CONTROL,'\\ue007')\n",
    "\n",
    "time.sleep(2)\n",
    "browser.get('https://www.facebook.com/messages/t/'+him_id)\n",
    "\n",
    "time.sleep(1)\n",
    "\n",
    "i = 0\n",
    "while i<5:\n",
    "    time.sleep(1)\n",
    "    msg = browser.find_element(By.CSS_SELECTOR, '*[aria-label=\"訊息\"]')\n",
    "    msg.send_keys('雞雞')\n",
    "    click = browser.find_element(By.CSS_SELECTOR, '*[aria-label=\"按 Enter 即可傳送\"]')\n",
    "    click.click()\n",
    "    i+=1"
   ]
  }
 ],
 "metadata": {
  "kernelspec": {
   "display_name": "Python 3 (ipykernel)",
   "language": "python",
   "name": "python3"
  },
  "language_info": {
   "codemirror_mode": {
    "name": "ipython",
    "version": 3
   },
   "file_extension": ".py",
   "mimetype": "text/x-python",
   "name": "python",
   "nbconvert_exporter": "python",
   "pygments_lexer": "ipython3",
   "version": "3.10.9"
  }
 },
 "nbformat": 4,
 "nbformat_minor": 5
}
